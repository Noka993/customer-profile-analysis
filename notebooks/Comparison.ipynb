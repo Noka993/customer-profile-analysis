{
 "cells": [
  {
   "cell_type": "code",
   "execution_count": 1,
   "id": "401de7a8-76da-4b08-b820-b644ba0d150a",
   "metadata": {},
   "outputs": [],
   "source": [
    "#kmeans munmax, gmm minmax, kmeans stand,gmm stand"
   ]
  },
  {
   "cell_type": "code",
   "execution_count": 1,
   "id": "570453ca-12d1-41c5-8e3c-a55090c9b4f8",
   "metadata": {},
   "outputs": [],
   "source": [
    "from data import read_preprocessed_data,optimal_jaccard, jaccard_res\n",
    "import matplotlib.pyplot as plt\n",
    "import seaborn as sns\n",
    "from sklearn.cluster import KMeans\n",
    "from sklearn.decomposition import PCA\n",
    "from inertia import calculate_inertias\n",
    "import pandas as pd\n",
    "from sklearn.metrics import silhouette_score\n",
    "\n",
    "from sklearn.mixture import GaussianMixture \n",
    "\n",
    "color_pallete = [\"#70d6ff\", \"#ff70a6\", \"#ff9770\", \"#ffd670\", \"#70d6aa\"]\n",
    "\n",
    "results = {\n",
    "    \"GMM\":{},\n",
    "    \"K-means\":{}\n",
    "}\n",
    "result_summaries = {\n",
    "    \"GMM\":{},\n",
    "    \"K-means\":{}\n",
    "}\n",
    "\n",
    "result_PCAS = {\n",
    "    \"GMM\":{},\n",
    "    \"K-means\":{}\n",
    "}\n",
    "\n",
    "gmm = GaussianMixture(\n",
    "    # Stosujemy model mieszanin gaussa dla wybranej liczby klastrów\n",
    "    n_components=3,          \n",
    "    covariance_type='tied',  \n",
    "    # Używamy random_state = 42, aby zapewnić, że klastry będą takie same z każdym uruchomieniem\n",
    "    random_state=42\n",
    ")\n",
    "kmeans = KMeans(n_clusters=3, random_state=42)\n",
    "pca = PCA(n_components=2)\n",
    "met1= [\"GMM\",'K-means']\n",
    "met2=[\"Standaryzacja\",\"MinMax\",\"Robust\"]\n",
    "#column and row\n",
    "cow = []\n",
    "for i in range(len(met1)):\n",
    "    for n in range(len(met2)):\n",
    "        cow.append(met1[i]+\"_\"+met2[n])\n",
    "\n",
    "comparison_results = pd.DataFrame(-100.0\n",
    "                  , columns=cow, index=cow)\n",
    "#comparison_silhouette = pd.DataFrame(-100.0\n",
    "        #          , columns=cow,index=[\"Silhouette\"])"
   ]
  },
  {
   "cell_type": "code",
   "execution_count": 2,
   "id": "1b6f5640-fdca-4213-872b-7affc275f75e",
   "metadata": {},
   "outputs": [
    {
     "name": "stdout",
     "output_type": "stream",
     "text": [
      "/run/media/user_admin/ntfs1/studia/going_MAD/data/marketing_campaign.csv\n"
     ]
    }
   ],
   "source": [
    "data= read_preprocessed_data(gmm=True)\n",
    "data['Cluster'] = gmm.fit_predict(data)\n",
    "results[\"GMM\"][\"Standaryzacja\"]=data\n",
    "pca = PCA(n_components=2)\n",
    "pca_components = pca.fit_transform(data.drop(\"Cluster\", axis=1))\n",
    "\n",
    "result_PCAS[\"GMM\"][\"Standaryzacja\"]=round(pca.explained_variance_ratio_.sum(), 2)\n",
    "\n"
   ]
  },
  {
   "cell_type": "code",
   "execution_count": 3,
   "id": "be41bd6f-0a5d-40f8-95ef-2a07a6239b0b",
   "metadata": {},
   "outputs": [
    {
     "name": "stdout",
     "output_type": "stream",
     "text": [
      "/run/media/user_admin/ntfs1/studia/going_MAD/data/marketing_campaign.csv\n"
     ]
    }
   ],
   "source": [
    "data = read_preprocessed_data(std=False, minmax=True,gmm=True)\n",
    "data['Cluster'] = gmm.fit_predict(data)\n",
    "results[\"GMM\"][\"MinMax\"]=data\n",
    "pca = PCA(n_components=2)\n",
    "pca_components = pca.fit_transform(data.drop(\"Cluster\", axis=1))\n",
    "\n",
    "result_PCAS[\"GMM\"][\"MinMax\"]=round(pca.explained_variance_ratio_.sum(), 2)\n"
   ]
  },
  {
   "cell_type": "code",
   "execution_count": 4,
   "id": "13a9caa4-af1c-4ea9-8c03-9c526dc271a5",
   "metadata": {},
   "outputs": [
    {
     "name": "stdout",
     "output_type": "stream",
     "text": [
      "/run/media/user_admin/ntfs1/studia/going_MAD/data/marketing_campaign.csv\n"
     ]
    }
   ],
   "source": [
    "data = read_preprocessed_data(std=False, robust=True,gmm=True)\n",
    "data['Cluster'] = gmm.fit_predict(data)\n",
    "results[\"GMM\"][\"Robust\"]=data\n",
    "pca = PCA(n_components=2)\n",
    "pca_components = pca.fit_transform(data.drop(\"Cluster\", axis=1))\n",
    "\n",
    "result_PCAS[\"GMM\"][\"Robust\"]=round(pca.explained_variance_ratio_.sum(), 2)\n",
    "\n"
   ]
  },
  {
   "cell_type": "code",
   "execution_count": 5,
   "id": "9a287684-2d12-431c-9c8c-b303f6d8613d",
   "metadata": {},
   "outputs": [
    {
     "name": "stdout",
     "output_type": "stream",
     "text": [
      "/run/media/user_admin/ntfs1/studia/going_MAD/data/marketing_campaign.csv\n"
     ]
    }
   ],
   "source": [
    "data= read_preprocessed_data()\n",
    "data['Cluster'] = kmeans.fit_predict(data)\n",
    "results[\"K-means\"][\"Standaryzacja\"]=data\n",
    "pca = PCA(n_components=2)\n",
    "pca_components = pca.fit_transform(data.drop(\"Cluster\", axis=1))\n",
    "\n",
    "result_PCAS[\"K-means\"][\"Standaryzacja\"]=round(pca.explained_variance_ratio_.sum(), 2)\n",
    "\n"
   ]
  },
  {
   "cell_type": "code",
   "execution_count": 6,
   "id": "ae66743e-e2d0-4e1f-a187-520e5340f443",
   "metadata": {},
   "outputs": [
    {
     "name": "stdout",
     "output_type": "stream",
     "text": [
      "/run/media/user_admin/ntfs1/studia/going_MAD/data/marketing_campaign.csv\n"
     ]
    }
   ],
   "source": [
    "data = read_preprocessed_data(std=False, minmax=True)\n",
    "\n",
    "data['Cluster'] = kmeans.fit_predict(data)\n",
    "results[\"K-means\"][\"MinMax\"]=data\n",
    "pca = PCA(n_components=2)\n",
    "\n",
    "pca_components = pca.fit_transform(data.drop(\"Cluster\", axis=1))\n",
    "\n",
    "result_PCAS[\"K-means\"][\"MinMax\"]=round(pca.explained_variance_ratio_.sum(), 2)\n",
    "\n"
   ]
  },
  {
   "cell_type": "code",
   "execution_count": 7,
   "id": "09dc488b-da3b-46c8-b924-4c07eddc1ad3",
   "metadata": {},
   "outputs": [
    {
     "name": "stdout",
     "output_type": "stream",
     "text": [
      "/run/media/user_admin/ntfs1/studia/going_MAD/data/marketing_campaign.csv\n"
     ]
    }
   ],
   "source": [
    "\n",
    "\n",
    "data = read_preprocessed_data(std=False, robust=True)\n",
    "data['Cluster'] = kmeans.fit_predict(data)\n",
    "results[\"K-means\"][\"Robust\"]=data\n",
    "pca = PCA(n_components=2)\n",
    "pca_components = pca.fit_transform(data.drop(\"Cluster\", axis=1))\n",
    "\n",
    "result_PCAS[\"K-means\"][\"Robust\"]=round(pca.explained_variance_ratio_.sum(), 2)\n"
   ]
  },
  {
   "cell_type": "code",
   "execution_count": null,
   "id": "413f0878-8c2c-4835-b8d4-9abf383fceb6",
   "metadata": {},
   "outputs": [],
   "source": []
  },
  {
   "cell_type": "code",
   "execution_count": 8,
   "id": "516a6100-c25b-43ec-9257-1531fbca14a0",
   "metadata": {},
   "outputs": [
    {
     "data": {
      "text/html": [
       "<div>\n",
       "<style scoped>\n",
       "    .dataframe tbody tr th:only-of-type {\n",
       "        vertical-align: middle;\n",
       "    }\n",
       "\n",
       "    .dataframe tbody tr th {\n",
       "        vertical-align: top;\n",
       "    }\n",
       "\n",
       "    .dataframe thead th {\n",
       "        text-align: right;\n",
       "    }\n",
       "</style>\n",
       "<table border=\"1\" class=\"dataframe\">\n",
       "  <thead>\n",
       "    <tr style=\"text-align: right;\">\n",
       "      <th></th>\n",
       "      <th>GMM_Standaryzacja</th>\n",
       "      <th>GMM_MinMax</th>\n",
       "      <th>GMM_Robust</th>\n",
       "      <th>K-means_Standaryzacja</th>\n",
       "      <th>K-means_MinMax</th>\n",
       "      <th>K-means_Robust</th>\n",
       "    </tr>\n",
       "  </thead>\n",
       "  <tbody>\n",
       "    <tr>\n",
       "      <th>GMM_Standaryzacja</th>\n",
       "      <td>1.000000</td>\n",
       "      <td>0.420126</td>\n",
       "      <td>0.834406</td>\n",
       "      <td>0.776485</td>\n",
       "      <td>0.473974</td>\n",
       "      <td>0.733279</td>\n",
       "    </tr>\n",
       "    <tr>\n",
       "      <th>GMM_MinMax</th>\n",
       "      <td>0.420126</td>\n",
       "      <td>1.000000</td>\n",
       "      <td>0.399673</td>\n",
       "      <td>0.379355</td>\n",
       "      <td>0.698173</td>\n",
       "      <td>0.374920</td>\n",
       "    </tr>\n",
       "    <tr>\n",
       "      <th>GMM_Robust</th>\n",
       "      <td>0.834406</td>\n",
       "      <td>0.399673</td>\n",
       "      <td>1.000000</td>\n",
       "      <td>0.835193</td>\n",
       "      <td>0.463381</td>\n",
       "      <td>0.812632</td>\n",
       "    </tr>\n",
       "    <tr>\n",
       "      <th>K-means_Standaryzacja</th>\n",
       "      <td>0.776485</td>\n",
       "      <td>0.379355</td>\n",
       "      <td>0.835193</td>\n",
       "      <td>1.000000</td>\n",
       "      <td>0.443619</td>\n",
       "      <td>0.891199</td>\n",
       "    </tr>\n",
       "    <tr>\n",
       "      <th>K-means_MinMax</th>\n",
       "      <td>0.473974</td>\n",
       "      <td>0.698173</td>\n",
       "      <td>0.463381</td>\n",
       "      <td>0.443619</td>\n",
       "      <td>1.000000</td>\n",
       "      <td>0.435863</td>\n",
       "    </tr>\n",
       "    <tr>\n",
       "      <th>K-means_Robust</th>\n",
       "      <td>0.733279</td>\n",
       "      <td>0.374920</td>\n",
       "      <td>0.812632</td>\n",
       "      <td>0.891199</td>\n",
       "      <td>0.435863</td>\n",
       "      <td>1.000000</td>\n",
       "    </tr>\n",
       "  </tbody>\n",
       "</table>\n",
       "</div>"
      ],
      "text/plain": [
       "                       GMM_Standaryzacja  GMM_MinMax  GMM_Robust  \\\n",
       "GMM_Standaryzacja               1.000000    0.420126    0.834406   \n",
       "GMM_MinMax                      0.420126    1.000000    0.399673   \n",
       "GMM_Robust                      0.834406    0.399673    1.000000   \n",
       "K-means_Standaryzacja           0.776485    0.379355    0.835193   \n",
       "K-means_MinMax                  0.473974    0.698173    0.463381   \n",
       "K-means_Robust                  0.733279    0.374920    0.812632   \n",
       "\n",
       "                       K-means_Standaryzacja  K-means_MinMax  K-means_Robust  \n",
       "GMM_Standaryzacja                   0.776485        0.473974        0.733279  \n",
       "GMM_MinMax                          0.379355        0.698173        0.374920  \n",
       "GMM_Robust                          0.835193        0.463381        0.812632  \n",
       "K-means_Standaryzacja               1.000000        0.443619        0.891199  \n",
       "K-means_MinMax                      0.443619        1.000000        0.435863  \n",
       "K-means_Robust                      0.891199        0.435863        1.000000  "
      ]
     },
     "execution_count": 8,
     "metadata": {},
     "output_type": "execute_result"
    }
   ],
   "source": [
    "#met1= i,j \n",
    "#met2= l,k\n",
    "\n",
    "for i in range(len(met1)):\n",
    "    for j in range(len(met2)):\n",
    "        l=i\n",
    "        for l in range(len(met1)):\n",
    "            k= j if i==l else 0\n",
    "            for k in range(len(met2)):\n",
    "                \n",
    "               # print(type(results[met1[i]][met2[j]]))\n",
    "                #jaccard_res(results[met1[i]][met2[j]])\n",
    "                #comparison_results.loc[met1[i]+\"_\"+met2[j],met1[l]+\"_\"+met2[k]]=i+j+l+k\n",
    "                # print(jaccard_res(results[met1[i]][met2[j]],results[met1[l]][met2[k]]))\n",
    "                comparison_results.loc[met1[i]+\"_\"+met2[j],met1[l]+\"_\"+met2[k]]= optimal_jaccard(results[met1[i]][met2[j]],results[met1[l]][met2[k]])\n",
    "                comparison_results.loc[met1[l]+\"_\"+met2[k],met1[i]+\"_\"+met2[j]]= optimal_jaccard(results[met1[i]][met2[j]],results[met1[l]][met2[k]])\n",
    "                \n",
    "              # comparison_results.loc[met1[i]+\"_\"+met2[j],met1[l]+\"_\"+met2[k]]= jaccard_res(results[met1[i]][met2[j]],results[met1[l]][met2[k]])\n",
    "            #   comparison_results.loc[met1[l]+\"_\"+met2[k],met1[i]+\"_\"+met2[j]]= jaccard_res(results[met1[i]][met2[j]],results[met1[l]][met2[k]])\n",
    "\n",
    "comparison_results.head(6)\n",
    "                                                                                            "
   ]
  },
  {
   "cell_type": "code",
   "execution_count": 9,
   "id": "2d9b0c8b-6462-4663-94bd-8a0288a71333",
   "metadata": {},
   "outputs": [],
   "source": [
    "#comparison_results.loc[comparison_results[\"K-means_Robust\"] == 0.000000,\"K-means_Robust\"] = 30"
   ]
  },
  {
   "cell_type": "code",
   "execution_count": 10,
   "id": "d0325b99-8a08-4106-b264-bbc242c1b667",
   "metadata": {},
   "outputs": [
    {
     "data": {
      "text/html": [
       "<div>\n",
       "<style scoped>\n",
       "    .dataframe tbody tr th:only-of-type {\n",
       "        vertical-align: middle;\n",
       "    }\n",
       "\n",
       "    .dataframe tbody tr th {\n",
       "        vertical-align: top;\n",
       "    }\n",
       "\n",
       "    .dataframe thead th {\n",
       "        text-align: right;\n",
       "    }\n",
       "</style>\n",
       "<table border=\"1\" class=\"dataframe\">\n",
       "  <thead>\n",
       "    <tr style=\"text-align: right;\">\n",
       "      <th></th>\n",
       "      <th>GMM_Standaryzacja</th>\n",
       "      <th>GMM_MinMax</th>\n",
       "      <th>GMM_Robust</th>\n",
       "      <th>K-means_Standaryzacja</th>\n",
       "      <th>K-means_MinMax</th>\n",
       "      <th>K-means_Robust</th>\n",
       "    </tr>\n",
       "  </thead>\n",
       "  <tbody>\n",
       "    <tr>\n",
       "      <th>GMM_Standaryzacja</th>\n",
       "      <td>1.000000</td>\n",
       "      <td>0.420126</td>\n",
       "      <td>0.834406</td>\n",
       "      <td>0.776485</td>\n",
       "      <td>0.473974</td>\n",
       "      <td>0.733279</td>\n",
       "    </tr>\n",
       "    <tr>\n",
       "      <th>GMM_MinMax</th>\n",
       "      <td>0.420126</td>\n",
       "      <td>1.000000</td>\n",
       "      <td>0.399673</td>\n",
       "      <td>0.379355</td>\n",
       "      <td>0.698173</td>\n",
       "      <td>0.374920</td>\n",
       "    </tr>\n",
       "    <tr>\n",
       "      <th>GMM_Robust</th>\n",
       "      <td>0.834406</td>\n",
       "      <td>0.399673</td>\n",
       "      <td>1.000000</td>\n",
       "      <td>0.835193</td>\n",
       "      <td>0.463381</td>\n",
       "      <td>0.812632</td>\n",
       "    </tr>\n",
       "    <tr>\n",
       "      <th>K-means_Standaryzacja</th>\n",
       "      <td>0.776485</td>\n",
       "      <td>0.379355</td>\n",
       "      <td>0.835193</td>\n",
       "      <td>1.000000</td>\n",
       "      <td>0.443619</td>\n",
       "      <td>0.891199</td>\n",
       "    </tr>\n",
       "    <tr>\n",
       "      <th>K-means_MinMax</th>\n",
       "      <td>0.473974</td>\n",
       "      <td>0.698173</td>\n",
       "      <td>0.463381</td>\n",
       "      <td>0.443619</td>\n",
       "      <td>1.000000</td>\n",
       "      <td>0.435863</td>\n",
       "    </tr>\n",
       "    <tr>\n",
       "      <th>K-means_Robust</th>\n",
       "      <td>0.733279</td>\n",
       "      <td>0.374920</td>\n",
       "      <td>0.812632</td>\n",
       "      <td>0.891199</td>\n",
       "      <td>0.435863</td>\n",
       "      <td>1.000000</td>\n",
       "    </tr>\n",
       "  </tbody>\n",
       "</table>\n",
       "</div>"
      ],
      "text/plain": [
       "                       GMM_Standaryzacja  GMM_MinMax  GMM_Robust  \\\n",
       "GMM_Standaryzacja               1.000000    0.420126    0.834406   \n",
       "GMM_MinMax                      0.420126    1.000000    0.399673   \n",
       "GMM_Robust                      0.834406    0.399673    1.000000   \n",
       "K-means_Standaryzacja           0.776485    0.379355    0.835193   \n",
       "K-means_MinMax                  0.473974    0.698173    0.463381   \n",
       "K-means_Robust                  0.733279    0.374920    0.812632   \n",
       "\n",
       "                       K-means_Standaryzacja  K-means_MinMax  K-means_Robust  \n",
       "GMM_Standaryzacja                   0.776485        0.473974        0.733279  \n",
       "GMM_MinMax                          0.379355        0.698173        0.374920  \n",
       "GMM_Robust                          0.835193        0.463381        0.812632  \n",
       "K-means_Standaryzacja               1.000000        0.443619        0.891199  \n",
       "K-means_MinMax                      0.443619        1.000000        0.435863  \n",
       "K-means_Robust                      0.891199        0.435863        1.000000  "
      ]
     },
     "execution_count": 10,
     "metadata": {},
     "output_type": "execute_result"
    }
   ],
   "source": [
    "comparison_results.head(6)"
   ]
  },
  {
   "cell_type": "code",
   "execution_count": 11,
   "id": "f3bb472b-bc05-4ff9-bfda-03e5dc952851",
   "metadata": {},
   "outputs": [],
   "source": [
    "met1= [\"GMM\",'K-means']\n",
    "met2=[\"Standaryzacja\",\"MinMax\",\"Robust\"]"
   ]
  },
  {
   "cell_type": "code",
   "execution_count": 12,
   "id": "0aa25109-be04-4500-ac70-4d9dffa3b466",
   "metadata": {},
   "outputs": [
    {
     "name": "stdout",
     "output_type": "stream",
     "text": [
      "Wariancje PCA\n",
      "GMM_Standaryzacja: 0.54\n",
      "GMM_MinMax: 0.43\n",
      "GMM_Robust: 0.55\n",
      "K-means_Standaryzacja: 0.54\n",
      "K-means_MinMax: 0.43\n",
      "K-means_Robust: 0.55\n"
     ]
    }
   ],
   "source": [
    "print(\"Wariancje PCA\")\n",
    "for val1 in met1:\n",
    "    for val2 in met2:\n",
    "        print( val1 + \"_\"+val2+\": \" +str(result_PCAS[val1][val2]))"
   ]
  },
  {
   "cell_type": "code",
   "execution_count": null,
   "id": "fb5bbbf2-8953-4c13-8ef5-ae07a818def1",
   "metadata": {},
   "outputs": [],
   "source": []
  },
  {
   "cell_type": "code",
   "execution_count": null,
   "id": "80f7cead-dd4e-41dc-a615-ce398783f46f",
   "metadata": {},
   "outputs": [],
   "source": []
  }
 ],
 "metadata": {
  "kernelspec": {
   "display_name": "Python 3 (ipykernel)",
   "language": "python",
   "name": "python3"
  },
  "language_info": {
   "codemirror_mode": {
    "name": "ipython",
    "version": 3
   },
   "file_extension": ".py",
   "mimetype": "text/x-python",
   "name": "python",
   "nbconvert_exporter": "python",
   "pygments_lexer": "ipython3",
   "version": "3.13.2"
  }
 },
 "nbformat": 4,
 "nbformat_minor": 5
}
